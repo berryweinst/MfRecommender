{
 "cells": [
  {
   "cell_type": "code",
   "execution_count": 12,
   "metadata": {
    "collapsed": false
   },
   "outputs": [],
   "source": [
    "%matplotlib inline\n",
    "import matplotlib\n",
    "import matplotlib.pyplot as plt\n",
    "import numpy as np\n",
    "from scipy.sparse.linalg import spsolve\n",
    "from scipy import sparse\n",
    "from data import *\n",
    "\n",
    "\n",
    "\n",
    "\n",
    "class MFModel(object):\n",
    "\n",
    "    def __init__(self, rates_dict, test_rates_dict, num_users, num_items, \n",
    "                 hidden_dim, lr, gamma, epochs, optimizer, reg_u, reg_i, confidence=1):\n",
    "        \"\"\" Params:\n",
    "        1) ratings - rating matrix (as dict)\n",
    "        2) hidden_dim  - number of latent dimensions (as integer)\n",
    "        3) lr - learning rate (as float)\n",
    "        4) gamma - regulaizer (as float)\n",
    "        5) opechs - as int\n",
    "        \"\"\"\n",
    "\n",
    "        self.ratings_dict = rates_dict\n",
    "        self.test_ratings_dict = test_rates_dict\n",
    "        self.num_users = num_users\n",
    "        self.num_items = num_items\n",
    "        self.K = hidden_dim\n",
    "        self.optimizer = optimizer\n",
    "        self.lr = lr\n",
    "        self.gamma = gamma\n",
    "        self.regulizer_items = reg_i\n",
    "        self.regulizer_users = reg_u\n",
    "        self.confidence = confidence\n",
    "        self.epochs = epochs\n",
    "        self.scbd = []\n",
    "        \n",
    "    def print_hyper_params(self):\n",
    "        print(\"latent dimention %d\" % (self.K))\n",
    "        print(\"learning rate %r\" % (self.lr))\n",
    "        print(\"lambda SGD %r\" % (self.gamma))\n",
    "        print(\"lambda ALS users %r\" % (self.regulizer_users))\n",
    "        print(\"lambda ALS items %r\" % (self.regulizer_items))\n",
    "        print(\"Confidence ALS %d\" % (self.confidence))\n",
    "        print(\"Epochs %d\" % (self.epochs))\n",
    "\n",
    "    def init(self, isize, ik, kind='normal'):\n",
    "        if kind == 'normal':\n",
    "            return np.random.normal(scale=1.0/ik, size=(isize, ik))\n",
    "        elif kind == 'uniform':\n",
    "            return np.random.uniform(-1.0/ik, 1.0/ik)\n",
    "\n",
    "\n",
    "    def train_model(self):\n",
    "\n",
    "        def reset(samples):\n",
    "            np.random.shuffle(samples)\n",
    "\n",
    "        self.samples = []\n",
    "        # prepare the samples samples\n",
    "        for u, items in self.ratings_dict.items():\n",
    "            for i, r, _ in items:\n",
    "                self.samples += [(u, i, r)]\n",
    "\n",
    "        self.U = self.init(self.num_users, self.K, kind='normal')\n",
    "        self.V = self.init(self.num_items, self.K, kind='normal')\n",
    "        \n",
    "        #sparse intermidiate representation\n",
    "        self.Us = sparse.csr_matrix(self.U)\n",
    "        self.Vs = sparse.csr_matrix(self.V)\n",
    "\n",
    "        # Initialize the biases\n",
    "        self.bu = np.zeros(self.num_users)\n",
    "        self.bv = np.zeros(self.num_items)\n",
    "\n",
    "\n",
    "        for epoch in range(self.epochs):\n",
    "            reset(self.samples)\n",
    "            if self.optimizer == 'sgd':\n",
    "                self.LearnModelFromDataUsingSGD()\n",
    "            elif self.optimizer == 'als':\n",
    "                self.LearnModelFromDataUsingALS()\n",
    "            train_rmse = self.RMSE(is_train=True)\n",
    "            val_rmse = self.RMSE()\n",
    "            print(\"[Epoch %d] : train RMSE = %.4f\" % (epoch, train_rmse))\n",
    "            if epoch % 5 == 0:\n",
    "                print(\"[Epoch %d] : validation RMSE = %.4f\" % (epoch, val_rmse))\n",
    "            self.scbd.append((epoch, train_rmse, val_rmse))\n",
    "\n",
    "\n",
    "    def LearnModelFromDataUsingSGD (self):\n",
    "        \"\"\"\n",
    "        Performs one iteration on one of the User/Items matrices\n",
    "        \"\"\"    \n",
    "        for u, v, rate in self.samples:\n",
    "            prediction = self.bu[u] + self.bv[v] + self.U[u, :].dot(self.V[v, :].T)\n",
    "            err = (rate - prediction)\n",
    "\n",
    "            # update biases\n",
    "            self.bu[u] += self.lr * (err - self.gamma * self.bu[u])\n",
    "            self.bv[v] += self.lr * (err - self.gamma * self.bv[v])\n",
    "\n",
    "            # update user item metrices\n",
    "            self.U[u, :] += self.lr * (err * self.V[v, :] - self.gamma * self.U[u, :])\n",
    "            self.V[v, :] += self.lr * (err * self.U[u, :] - self.gamma * self.V[v, :])\n",
    "            \n",
    "    \n",
    "    def LearnModelFromDataUsingALS(self):\n",
    "        \"\"\"\n",
    "        Performs one iteration on one of the User/Items matrices\n",
    "        \"\"\"\n",
    "        rate_mat = np.zeros((self.num_users, self.num_items))\n",
    "        for user, item in self.ratings_dict.items():\n",
    "            for movie, rate, _ in item:\n",
    "                rate_mat[user][movie] = rate\n",
    "        rate_mat = sparse.csr_matrix(rate_mat) * self.confidence\n",
    "\n",
    "        U_i = sparse.eye(self.num_users)\n",
    "        V_i = sparse.eye(self.num_items)\n",
    "\n",
    "        # UtU = self.Us.T.dot(self.Us)\n",
    "        # VtV = self.Vs.T.dot(self.Vs)\n",
    "\n",
    "        # Users update\n",
    "        lambda_u = sparse.eye(self.K) * self.regulizer_users\n",
    "        for u_idx, u_rate in enumerate(rate_mat):\n",
    "            u_dense = u_rate.toarray()\n",
    "            u_bin = u_dense.copy()\n",
    "            u_bin[u_bin != 0] = 1.0\n",
    "            u_diag = sparse.diags(u_dense, [0])\n",
    "            VtV = self.Vs.T.dot(u_diag).dot(self.Vs)\n",
    "            VtV_u = self.Vs.T.dot(u_diag).dot(u_dense.T)\n",
    "            self.Us[u_idx, :] = spsolve(VtV + lambda_u, VtV_u)\n",
    "\n",
    "\n",
    "\n",
    "        # Items update\n",
    "        lambda_i = sparse.eye(self.K) * self.regulizer_items\n",
    "        for i_idx, i_rate in enumerate(rate_mat.T):\n",
    "            i_dense = i_rate.toarray()\n",
    "            i_bin = i_dense.copy()\n",
    "            i_bin[i_bin != 0] = 1.0\n",
    "            i_diag = sparse.diags(i_dense, [0])\n",
    "            UtU = self.Us.T.dot(i_diag).dot(self.Us)\n",
    "            UtU_i = self.Us.T.dot(i_diag).dot(i_dense.T)\n",
    "            self.Vs[i_idx, :] = spsolve(UtU + lambda_i, UtU_i)\n",
    "\n",
    "        self.U = self.Us.toarray()\n",
    "        self.V = self.Vs.toarray()\n",
    "\n",
    "\n",
    "\n",
    "            \n",
    "    def RMSE(self, is_train=False):\n",
    "        mod_pred = self.bu[:,np.newaxis] + self.bv[np.newaxis:,] + self.U.dot(self.V.T)\n",
    "        total_err = 0\n",
    "        r_cnt = 0\n",
    "        ratings_dict = self.ratings_dict if is_train else self.test_ratings_dict\n",
    "        for u, items in ratings_dict.items():\n",
    "            for i, r, _ in items:\n",
    "                total_err += pow(r - mod_pred[u, i], 2)\n",
    "                r_cnt += 1\n",
    "        return np.sqrt(total_err / r_cnt)\n",
    "\n",
    "\n"
   ]
  },
  {
   "cell_type": "code",
   "execution_count": 108,
   "metadata": {
    "collapsed": false
   },
   "outputs": [
    {
     "name": "stdout",
     "output_type": "stream",
     "text": [
      "Starting training SGD...\n",
      "latent dimention 40\n",
      "learning rate 0.01\n",
      "lambda SGD 0.1\n",
      "lambda ALS users 0.1\n",
      "lambda ALS items 0.1\n",
      "Epochs 22\n",
      "[Epoch 0] : train RMSE = 1.0481\n",
      "[Epoch 0] : validation RMSE = 1.0967\n",
      "[Epoch 1] : train RMSE = 0.9747\n",
      "[Epoch 2] : train RMSE = 0.9505\n",
      "[Epoch 3] : train RMSE = 0.9372\n",
      "[Epoch 4] : train RMSE = 0.9301\n",
      "[Epoch 5] : train RMSE = 0.9250\n",
      "[Epoch 5] : validation RMSE = 0.9443\n",
      "[Epoch 6] : train RMSE = 0.9184\n",
      "[Epoch 7] : train RMSE = 0.9107\n",
      "[Epoch 8] : train RMSE = 0.9026\n",
      "[Epoch 9] : train RMSE = 0.8951\n",
      "[Epoch 10] : train RMSE = 0.8885\n",
      "[Epoch 10] : validation RMSE = 0.9132\n",
      "[Epoch 11] : train RMSE = 0.8831\n",
      "[Epoch 12] : train RMSE = 0.8783\n",
      "[Epoch 13] : train RMSE = 0.8730\n",
      "[Epoch 14] : train RMSE = 0.8686\n",
      "[Epoch 15] : train RMSE = 0.8660\n",
      "[Epoch 15] : validation RMSE = 0.8979\n",
      "[Epoch 16] : train RMSE = 0.8630\n",
      "[Epoch 17] : train RMSE = 0.8607\n",
      "[Epoch 18] : train RMSE = 0.8581\n",
      "[Epoch 19] : train RMSE = 0.8560\n",
      "[Epoch 20] : train RMSE = 0.8543\n",
      "[Epoch 20] : validation RMSE = 0.8906\n",
      "[Epoch 21] : train RMSE = 0.8527\n"
     ]
    }
   ],
   "source": [
    "# 1a - SGD\n",
    "model = MFModel(X_train, X_test, users, items, hidden_dim=40, lr=0.01, gamma=0.1, reg_u=0.1, reg_i=0.1, epochs=22, optimizer='sgd')\n",
    "print(\"Starting training SGD...\")\n",
    "model.print_hyper_params()\n",
    "model.train_model()"
   ]
  },
  {
   "cell_type": "code",
   "execution_count": 109,
   "metadata": {
    "collapsed": false
   },
   "outputs": [
    {
     "data": {
      "image/png": "[encoded data removed]",
      "text/plain": [
       "<matplotlib.figure.Figure at 0x1b83471e160>"
      ]
     },
     "metadata": {},
     "output_type": "display_data"
    }
   ],
   "source": [
    "train_rmse = [t for e, t, v in model.scbd]\n",
    "test_rmse = [v for e, t, v in model.scbd]\n",
    "epochs = [e for e, t, v in model.scbd]\n",
    "plt.figure(figsize=((16,4)))\n",
    "plt.plot(epochs, train_rmse, label=\"Train\")\n",
    "plt.plot(epochs, test_rmse, label=\"Test\")\n",
    "plt.legend()\n",
    "plt.xticks(epochs, fontsize=8)\n",
    "plt.xlabel(\"Epochs\")\n",
    "plt.ylabel(\"RMSE\")\n",
    "plt.grid(axis=\"y\")"
   ]
  },
  {
   "cell_type": "code",
   "execution_count": 13,
   "metadata": {
    "collapsed": false
   },
   "outputs": [
    {
     "name": "stdout",
     "output_type": "stream",
     "text": [
      "Starting training ALS...\n",
      "latent dimention 15\n",
      "learning rate 0.001\n",
      "lambda SGD 0.1\n",
      "lambda ALS users 0.1\n",
      "lambda ALS items 0.1\n",
      "Confidence ALS 1\n",
      "Epochs 21\n",
      "[Epoch 0] : train RMSE = 1.9278\n",
      "[Epoch 0] : validation RMSE = 2.3866\n",
      "[Epoch 1] : train RMSE = 0.8301\n",
      "[Epoch 2] : train RMSE = 0.7815\n",
      "[Epoch 3] : train RMSE = 0.7645\n",
      "[Epoch 4] : train RMSE = 0.7558\n",
      "[Epoch 5] : train RMSE = 0.7504\n",
      "[Epoch 5] : validation RMSE = 1.0312\n",
      "[Epoch 6] : train RMSE = 0.7467\n",
      "[Epoch 7] : train RMSE = 0.7440\n",
      "[Epoch 8] : train RMSE = 0.7420\n",
      "[Epoch 9] : train RMSE = 0.7403\n",
      "[Epoch 10] : train RMSE = 0.7390\n",
      "[Epoch 10] : validation RMSE = 1.0462\n",
      "[Epoch 11] : train RMSE = 0.7379\n",
      "[Epoch 12] : train RMSE = 0.7370\n",
      "[Epoch 13] : train RMSE = 0.7362\n",
      "[Epoch 14] : train RMSE = 0.7355\n",
      "[Epoch 15] : train RMSE = 0.7349\n",
      "[Epoch 15] : validation RMSE = 1.0577\n",
      "[Epoch 16] : train RMSE = 0.7343\n",
      "[Epoch 17] : train RMSE = 0.7338\n",
      "[Epoch 18] : train RMSE = 0.7334\n",
      "[Epoch 19] : train RMSE = 0.7330\n",
      "[Epoch 20] : train RMSE = 0.7326\n",
      "[Epoch 20] : validation RMSE = 1.0672\n"
     ]
    }
   ],
   "source": [
    "# 1b - ALS\n",
    "model = MFModel(X_train, X_test, users, items, hidden_dim=15, lr=0.001, gamma=0.1, reg_u=0.1, reg_i=0.1, epochs=21, optimizer='als')\n",
    "print(\"Starting training ALS...\")\n",
    "model.print_hyper_params()\n",
    "model.train_model()"
   ]
  },
  {
   "cell_type": "code",
   "execution_count": 14,
   "metadata": {
    "collapsed": false
   },
   "outputs": [
    {
     "data": {
      "image/png": "[encoded data removed]",
      "text/plain": [
       "<matplotlib.figure.Figure at 0x12c871c18>"
      ]
     },
     "metadata": {},
     "output_type": "display_data"
    }
   ],
   "source": [
    "train_rmse = [t for e, t, v in model.scbd]\n",
    "test_rmse = [v for e, t, v in model.scbd]\n",
    "epochs = [e for e, t, v in model.scbd]\n",
    "plt.figure(figsize=((16,4)))\n",
    "plt.plot(epochs, train_rmse, label=\"Train\")\n",
    "plt.plot(epochs, test_rmse, label=\"Test\")\n",
    "plt.legend()\n",
    "plt.xticks(epochs, fontsize=8)\n",
    "plt.xlabel(\"Epochs\")\n",
    "plt.ylabel(\"RMSE\")\n",
    "plt.grid(axis=\"y\")"
   ]
  },
  {
   "cell_type": "code",
   "execution_count": null,
   "metadata": {
    "collapsed": false
   },
   "outputs": [],
   "source": [
    "# 2\n",
    "import math\n",
    "lambda_l = [0.1, 1.0, 10.0, 100.0, 1000.0]\n",
    "log_lambda_l = [math.log(k) for k in lambda_l]\n",
    "max_test_rmse = []\n",
    "for l in lambda_l:\n",
    "    model = MFModel(X_train, X_test, users, items, hidden_dim=40, lr=0.01, gamma=l, reg_u=0.1, reg_i=0.1, epochs=22, optimizer='sgd')\n",
    "    print(\"Starting training SGD with lambda = %r ...\" % (l))\n",
    "    model.print_hyper_params()\n",
    "    model.train_model()\n",
    "    test_rmse = sorted(model.scbd, key=lambda x: x[2])\n",
    "    max_test_rmse.append(max(test_rmse))"
   ]
  },
  {
   "cell_type": "code",
   "execution_count": null,
   "metadata": {
    "collapsed": true
   },
   "outputs": [],
   "source": [
    "plt.figure(figsize=((16,4)))\n",
    "plt.plot(log_lambda_l, max_test_rmse, label=\"log_lambda_l\")\n",
    "plt.xticks(epochs, fontsize=8)\n",
    "plt.xlabel(\"Log lambda\")\n",
    "plt.ylabel(\"SGD RMSE\")\n",
    "plt.grid(axis=\"y\")"
   ]
  },
  {
   "cell_type": "code",
   "execution_count": null,
   "metadata": {
    "collapsed": true
   },
   "outputs": [],
   "source": [
    "# 3 + 4\n",
    "import time\n",
    "best_lambda = \n",
    "k_l = [2, 4, 10, 20, 40, 50, 70, 100, 200]\n",
    "time_meas = []\n",
    "max_test_rmse = []\n",
    "for k in k_l:\n",
    "    model = MFModel(X_train, X_test, users, items, hidden_dim=k, lr=0.01, gamma=best_lambda, reg_u=0.1, reg_i=0.1, epochs=22, optimizer='sgd')\n",
    "    print(\"Starting training SGD with K (hidden) = %d ...\" % (k))\n",
    "    model.print_hyper_params()\n",
    "    start = time.time()\n",
    "    model.train_model()\n",
    "    end = time.time()\n",
    "    time_meas.append(end - start)\n",
    "    test_rmse = sorted(model.scbd, key=lambda x: x[2])\n",
    "    max_test_rmse.append(max(test_rmse))"
   ]
  },
  {
   "cell_type": "code",
   "execution_count": null,
   "metadata": {
    "collapsed": true
   },
   "outputs": [],
   "source": []
  },
  {
   "cell_type": "code",
   "execution_count": null,
   "metadata": {
    "collapsed": true
   },
   "outputs": [],
   "source": []
  },
  {
   "cell_type": "code",
   "execution_count": null,
   "metadata": {
    "collapsed": true
   },
   "outputs": [],
   "source": []
  }
 ],
 "metadata": {
  "kernelspec": {
   "display_name": "Python 3",
   "language": "python",
   "name": "python3"
  },
  "language_info": {
   "codemirror_mode": {
    "name": "ipython",
    "version": 3
   },
   "file_extension": ".py",
   "mimetype": "text/x-python",
   "name": "python",
   "nbconvert_exporter": "python",
   "pygments_lexer": "ipython3",
   "version": "3.6.0"
  }
 },
 "nbformat": 4,
 "nbformat_minor": 2
}
