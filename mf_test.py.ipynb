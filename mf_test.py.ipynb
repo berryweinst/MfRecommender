{
 "cells": [
  {
   "cell_type": "code",
   "execution_count": 113,
   "metadata": {
    "collapsed": false
   },
   "outputs": [],
   "source": [
    "%matplotlib inline\n",
    "import matplotlib\n",
    "import matplotlib.pyplot as plt\n",
    "import numpy as np\n",
    "from numpy.linalg import solve\n",
    "from data import *\n",
    "\n",
    "\n",
    "\n",
    "\n",
    "class MFModel(object):\n",
    "\n",
    "    def __init__(self, rates_dict, test_rates_dict, num_users, num_items, hidden_dim, lr, gamma, epochs, optimizer, reg_u, reg_i):\n",
    "        \"\"\" Params:\n",
    "        1) ratings - rating matrix (as dict)\n",
    "        2) hidden_dim  - number of latent dimensions (as integer)\n",
    "        3) lr - learning rate (as float)\n",
    "        4) gamma - regulaizer (as float)\n",
    "        5) opechs - as int\n",
    "        \"\"\"\n",
    "\n",
    "        self.ratings_dict = rates_dict\n",
    "        self.test_ratings_dict = test_rates_dict\n",
    "        self.num_users = num_users\n",
    "        self.num_items = num_items\n",
    "        self.K = hidden_dim\n",
    "        self.optimizer = optimizer\n",
    "        self.lr = lr\n",
    "        self.gamma = gamma\n",
    "        self.regulizer_items = reg_i\n",
    "        self.regulizer_users = reg_u\n",
    "        self.epochs = epochs\n",
    "        self.scbd = []\n",
    "        \n",
    "    def print_hyper_params(self):\n",
    "        print(\"latent dimention %d\" % (self.K))\n",
    "        print(\"learning rate %r\" % (self.lr))\n",
    "        print(\"lambda SGD %r\" % (self.gamma))\n",
    "        print(\"lambda ALS users %r\" % (self.regulizer_users))\n",
    "        print(\"lambda ALS items %r\" % (self.regulizer_items))\n",
    "        print(\"Epochs %d\" % (self.epochs))\n",
    "\n",
    "    def init(self, isize, ik, kind='normal'):\n",
    "        if kind == 'normal':\n",
    "            return np.random.normal(scale=1.0/ik, size=(isize, ik))\n",
    "        elif kind == 'uniform':\n",
    "            return np.random.uniform(-1.0/ik, 1.0/ik)\n",
    "\n",
    "\n",
    "    def train_model(self):\n",
    "\n",
    "        def reset(samples):\n",
    "            np.random.shuffle(samples)\n",
    "\n",
    "        self.samples = []\n",
    "        # prepare the samples samples\n",
    "        for u, items in self.ratings_dict.items():\n",
    "            for i, r, _ in items:\n",
    "                self.samples += [(u, i, r)]\n",
    "\n",
    "        self.U = self.init(self.num_users, self.K, kind='normal')\n",
    "        self.V = self.init(self.num_items, self.K, kind='normal')\n",
    "\n",
    "        # Initialize the biases\n",
    "        self.bu = np.zeros(self.num_users)\n",
    "        self.bv = np.zeros(self.num_items)\n",
    "\n",
    "\n",
    "        for epoch in range(self.epochs):\n",
    "            reset(self.samples)\n",
    "            if self.optimizer == 'sgd':\n",
    "                self.LearnModelFromDataUsingSGD()\n",
    "            elif self.optimizer == 'als':\n",
    "                self.LearnModelFromDataUsingALS()\n",
    "            train_rmse = self.RMSE(is_train=True)\n",
    "            val_rmse = self.RMSE()\n",
    "            print(\"[Epoch %d] : train RMSE = %.4f\" % (epoch, train_rmse))\n",
    "            if epoch % 5 == 0:\n",
    "                print(\"[Epoch %d] : validation RMSE = %.4f\" % (epoch, val_rmse))\n",
    "            self.scbd.append((epoch, train_rmse, val_rmse))\n",
    "\n",
    "\n",
    "    def LearnModelFromDataUsingSGD (self):\n",
    "        \"\"\"\n",
    "        Performs one iteration on one of the User/Items matrices\n",
    "        \"\"\"    \n",
    "        for u, v, rate in self.samples:\n",
    "            prediction = self.bu[u] + self.bv[v] + self.U[u, :].dot(self.V[v, :].T)\n",
    "            err = (rate - prediction)\n",
    "\n",
    "            # update biases\n",
    "            self.bu[u] += self.lr * (err - self.gamma * self.bu[u])\n",
    "            self.bv[v] += self.lr * (err - self.gamma * self.bv[v])\n",
    "\n",
    "            # update user item metrices\n",
    "            self.U[u, :] += self.lr * (err * self.V[v, :] - self.gamma * self.U[u, :])\n",
    "            self.V[v, :] += self.lr * (err * self.U[u, :] - self.gamma * self.V[v, :])\n",
    "            \n",
    "    \n",
    "    def LearnModelFromDataUsingALS(self):\n",
    "        \"\"\"\n",
    "        Performs one iteration on one of the User/Items matrices\n",
    "        \"\"\"             \n",
    "        rate_mat = np.zeros((self.num_users, self.num_items))\n",
    "        for user, item in self.ratings_dict.items():\n",
    "            for movie, rate, _ in item:\n",
    "                rate_mat[user][movie] = rate\n",
    "    \n",
    "            \n",
    "        # Users update\n",
    "        lambda_u = np.eye(self.K) * self.regulizer_users\n",
    "        for u_idx, u_rate in enumerate(rate_mat):\n",
    "            u_rate[u_rate != 0] = 1.0\n",
    "            self.U[u_idx,:] = solve(np.dot(self.V.T, np.dot(np.diag(u_rate), self.V)) + lambda_u,\n",
    "                                       np.dot(self.V.T, np.dot(np.diag(u_rate), rate_mat[u_idx,:].T))).T\n",
    "\n",
    "            \n",
    "        # Items update\n",
    "        lambda_i = np.eye(self.K) * self.regulizer_items\n",
    "        for i_idx, i_rate in enumerate(rate_mat.T):\n",
    "            i_rate[i_rate != 0] = 1.0\n",
    "            self.V[i_idx,:] = solve(np.dot(self.U.T, np.dot(np.diag(i_rate), self.U)) + lambda_i,\n",
    "                                         np.dot(self.U.T, np.dot(np.diag(i_rate), rate_mat[:, i_idx])))\n",
    "\n",
    "\n",
    "\n",
    "            \n",
    "    def RMSE(self, is_train=False):\n",
    "        mod_pred = self.bu[:,np.newaxis] + self.bv[np.newaxis:,] + self.U.dot(self.V.T)\n",
    "        total_err = 0\n",
    "        r_cnt = 0\n",
    "        ratings_dict = self.ratings_dict if is_train else self.test_ratings_dict\n",
    "        for u, items in ratings_dict.items():\n",
    "            for i, r, _ in items:\n",
    "                total_err += pow(r - mod_pred[u, i], 2)\n",
    "                r_cnt += 1\n",
    "        return np.sqrt(total_err / r_cnt)\n",
    "\n",
    "\n"
   ]
  },
  {
   "cell_type": "code",
   "execution_count": 108,
   "metadata": {
    "collapsed": false
   },
   "outputs": [
    {
     "name": "stdout",
     "output_type": "stream",
     "text": [
      "Starting training SGD...\n",
      "latent dimention 40\n",
      "learning rate 0.01\n",
      "lambda SGD 0.1\n",
      "lambda ALS users 0.1\n",
      "lambda ALS items 0.1\n",
      "Epochs 22\n",
      "[Epoch 0] : train RMSE = 1.0481\n",
      "[Epoch 0] : validation RMSE = 1.0967\n",
      "[Epoch 1] : train RMSE = 0.9747\n",
      "[Epoch 2] : train RMSE = 0.9505\n",
      "[Epoch 3] : train RMSE = 0.9372\n",
      "[Epoch 4] : train RMSE = 0.9301\n",
      "[Epoch 5] : train RMSE = 0.9250\n",
      "[Epoch 5] : validation RMSE = 0.9443\n",
      "[Epoch 6] : train RMSE = 0.9184\n",
      "[Epoch 7] : train RMSE = 0.9107\n",
      "[Epoch 8] : train RMSE = 0.9026\n",
      "[Epoch 9] : train RMSE = 0.8951\n",
      "[Epoch 10] : train RMSE = 0.8885\n",
      "[Epoch 10] : validation RMSE = 0.9132\n",
      "[Epoch 11] : train RMSE = 0.8831\n",
      "[Epoch 12] : train RMSE = 0.8783\n",
      "[Epoch 13] : train RMSE = 0.8730\n",
      "[Epoch 14] : train RMSE = 0.8686\n",
      "[Epoch 15] : train RMSE = 0.8660\n",
      "[Epoch 15] : validation RMSE = 0.8979\n",
      "[Epoch 16] : train RMSE = 0.8630\n",
      "[Epoch 17] : train RMSE = 0.8607\n",
      "[Epoch 18] : train RMSE = 0.8581\n",
      "[Epoch 19] : train RMSE = 0.8560\n",
      "[Epoch 20] : train RMSE = 0.8543\n",
      "[Epoch 20] : validation RMSE = 0.8906\n",
      "[Epoch 21] : train RMSE = 0.8527\n"
     ]
    }
   ],
   "source": [
    "# 1a - SGD\n",
    "model = MFModel(X_train, X_test, users, items, hidden_dim=40, lr=0.01, gamma=0.1, reg_u=0.1, reg_i=0.1, epochs=22, optimizer='sgd')\n",
    "print(\"Starting training SGD...\")\n",
    "model.print_hyper_params()\n",
    "model.train_model()"
   ]
  },
  {
   "cell_type": "code",
   "execution_count": 109,
   "metadata": {
    "collapsed": false
   },
   "outputs": [
    {
     "data": {
      "image/png": "[encoded data removed]",
      "text/plain": [
       "<matplotlib.figure.Figure at 0x1b83471e160>"
      ]
     },
     "metadata": {},
     "output_type": "display_data"
    }
   ],
   "source": [
    "train_rmse = [t for e, t, v in model.scbd]\n",
    "test_rmse = [v for e, t, v in model.scbd]\n",
    "epochs = [e for e, t, v in model.scbd]\n",
    "plt.figure(figsize=((16,4)))\n",
    "plt.plot(epochs, train_rmse, label=\"Train\")\n",
    "plt.plot(epochs, test_rmse, label=\"Test\")\n",
    "plt.legend()\n",
    "plt.xticks(epochs, fontsize=8)\n",
    "plt.xlabel(\"Epochs\")\n",
    "plt.ylabel(\"RMSE\")\n",
    "plt.grid(axis=\"y\")"
   ]
  },
  {
   "cell_type": "code",
   "execution_count": 114,
   "metadata": {
    "collapsed": false
   },
   "outputs": [
    {
     "name": "stdout",
     "output_type": "stream",
     "text": [
      "Starting training ALS...\n",
      "latent dimention 3\n",
      "learning rate 0.001\n",
      "lambda SGD 0.1\n",
      "lambda ALS users 0.1\n",
      "lambda ALS items 0.1\n",
      "Epochs 21\n",
      "[Epoch 0] : train RMSE = 3.6549\n",
      "[Epoch 0] : validation RMSE = 3.5392\n",
      "[Epoch 1] : train RMSE = 2.8577\n"
     ]
    },
    {
     "ename": "KeyboardInterrupt",
     "evalue": "",
     "output_type": "error",
     "traceback": [
      "\u001b[0;31m---------------------------------------------------------------------------\u001b[0m",
      "\u001b[0;31mKeyboardInterrupt\u001b[0m                         Traceback (most recent call last)",
      "\u001b[0;32m<ipython-input-114-15faecc78baa>\u001b[0m in \u001b[0;36m<module>\u001b[0;34m()\u001b[0m\n\u001b[1;32m      3\u001b[0m \u001b[0mprint\u001b[0m\u001b[1;33m(\u001b[0m\u001b[1;34m\"Starting training ALS...\"\u001b[0m\u001b[1;33m)\u001b[0m\u001b[1;33m\u001b[0m\u001b[0m\n\u001b[1;32m      4\u001b[0m \u001b[0mmodel\u001b[0m\u001b[1;33m.\u001b[0m\u001b[0mprint_hyper_params\u001b[0m\u001b[1;33m(\u001b[0m\u001b[1;33m)\u001b[0m\u001b[1;33m\u001b[0m\u001b[0m\n\u001b[0;32m----> 5\u001b[0;31m \u001b[0mmodel\u001b[0m\u001b[1;33m.\u001b[0m\u001b[0mtrain_model\u001b[0m\u001b[1;33m(\u001b[0m\u001b[1;33m)\u001b[0m\u001b[1;33m\u001b[0m\u001b[0m\n\u001b[0m",
      "\u001b[0;32m<ipython-input-113-ad4d01c87c51>\u001b[0m in \u001b[0;36mtrain_model\u001b[0;34m(self)\u001b[0m\n\u001b[1;32m     72\u001b[0m                 \u001b[0mself\u001b[0m\u001b[1;33m.\u001b[0m\u001b[0mLearnModelFromDataUsingSGD\u001b[0m\u001b[1;33m(\u001b[0m\u001b[1;33m)\u001b[0m\u001b[1;33m\u001b[0m\u001b[0m\n\u001b[1;32m     73\u001b[0m             \u001b[1;32melif\u001b[0m \u001b[0mself\u001b[0m\u001b[1;33m.\u001b[0m\u001b[0moptimizer\u001b[0m \u001b[1;33m==\u001b[0m \u001b[1;34m'als'\u001b[0m\u001b[1;33m:\u001b[0m\u001b[1;33m\u001b[0m\u001b[0m\n\u001b[0;32m---> 74\u001b[0;31m                 \u001b[0mself\u001b[0m\u001b[1;33m.\u001b[0m\u001b[0mLearnModelFromDataUsingALS\u001b[0m\u001b[1;33m(\u001b[0m\u001b[1;33m)\u001b[0m\u001b[1;33m\u001b[0m\u001b[0m\n\u001b[0m\u001b[1;32m     75\u001b[0m             \u001b[0mtrain_rmse\u001b[0m \u001b[1;33m=\u001b[0m \u001b[0mself\u001b[0m\u001b[1;33m.\u001b[0m\u001b[0mRMSE\u001b[0m\u001b[1;33m(\u001b[0m\u001b[0mis_train\u001b[0m\u001b[1;33m=\u001b[0m\u001b[1;32mTrue\u001b[0m\u001b[1;33m)\u001b[0m\u001b[1;33m\u001b[0m\u001b[0m\n\u001b[1;32m     76\u001b[0m             \u001b[0mval_rmse\u001b[0m \u001b[1;33m=\u001b[0m \u001b[0mself\u001b[0m\u001b[1;33m.\u001b[0m\u001b[0mRMSE\u001b[0m\u001b[1;33m(\u001b[0m\u001b[1;33m)\u001b[0m\u001b[1;33m\u001b[0m\u001b[0m\n",
      "\u001b[0;32m<ipython-input-113-ad4d01c87c51>\u001b[0m in \u001b[0;36mLearnModelFromDataUsingALS\u001b[0;34m(self)\u001b[0m\n\u001b[1;32m    123\u001b[0m             \u001b[0mi_rate\u001b[0m\u001b[1;33m[\u001b[0m\u001b[0mi_rate\u001b[0m \u001b[1;33m!=\u001b[0m \u001b[1;36m0\u001b[0m\u001b[1;33m]\u001b[0m \u001b[1;33m=\u001b[0m \u001b[1;36m1.0\u001b[0m\u001b[1;33m\u001b[0m\u001b[0m\n\u001b[1;32m    124\u001b[0m             self.V[i_idx,:] = solve(np.dot(self.U.T, np.dot(np.diag(i_rate), self.U)) + lambda_i,\n\u001b[0;32m--> 125\u001b[0;31m                                          np.dot(self.U.T, np.dot(np.diag(i_rate), rate_mat[:, i_idx])))\n\u001b[0m\u001b[1;32m    126\u001b[0m \u001b[1;33m\u001b[0m\u001b[0m\n\u001b[1;32m    127\u001b[0m \u001b[1;31m#         UtU = self.U.T.dot(self.U)\u001b[0m\u001b[1;33m\u001b[0m\u001b[1;33m\u001b[0m\u001b[0m\n",
      "\u001b[0;31mKeyboardInterrupt\u001b[0m: "
     ]
    }
   ],
   "source": [
    "# 1b - ALS\n",
    "model = MFModel(X_train, X_test, users, items, hidden_dim=3, lr=0.001, gamma=0.1, reg_u=0.1, reg_i=0.1, epochs=21, optimizer='als')\n",
    "print(\"Starting training ALS...\")\n",
    "model.print_hyper_params()\n",
    "model.train_model()"
   ]
  },
  {
   "cell_type": "code",
   "execution_count": null,
   "metadata": {
    "collapsed": true
   },
   "outputs": [],
   "source": [
    "train_rmse = [t for e, t, v in model.scbd]\n",
    "test_rmse = [v for e, t, v in model.scbd]\n",
    "epochs = [e for e, t, v in model.scbd]\n",
    "plt.figure(figsize=((16,4)))\n",
    "plt.plot(epochs, train_rmse)\n",
    "plt.plot(epochs, test_rmse)\n",
    "plt.xticks(epochs, fontsize=8)\n",
    "plt.xlabel(\"Epochs\")\n",
    "plt.ylabel(\"RMSE\")\n",
    "plt.grid(axis=\"y\")"
   ]
  }
 ],
 "metadata": {
  "kernelspec": {
   "display_name": "Python 3",
   "language": "python",
   "name": "python3"
  },
  "language_info": {
   "codemirror_mode": {
    "name": "ipython",
    "version": 3
   },
   "file_extension": ".py",
   "mimetype": "text/x-python",
   "name": "python",
   "nbconvert_exporter": "python",
   "pygments_lexer": "ipython3",
   "version": "3.6.0"
  }
 },
 "nbformat": 4,
 "nbformat_minor": 2
}
